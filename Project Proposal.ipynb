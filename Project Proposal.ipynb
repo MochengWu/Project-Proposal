{
 "cells": [
  {
   "cell_type": "markdown",
   "id": "221f655d",
   "metadata": {},
   "source": [
    "Analysis 1 Proposal：\n",
    "\n",
    "Research Question:\n",
    "Are individuals in a committed relationship less likely to report mental health challenges compared to single individuals? Understanding whether relationship status is associated with mental health issues is significant for social support interventions and public health policies, given the potential protective role of social support on mental health.\n",
    "\n",
    "Variables:\n",
    "DEMO_relationship_status: Indicates the respondent’s relationship status, with categories such as “single,” “married,” and “in a relationship.” This variable is used to differentiate types of social support, as those in relationships often have emotional support from a partner.\n",
    "DEMO_identity_mental_health: Indicates whether the respondent reports having a mental health condition. This binary variable (yes/no) is used to measure the individual’s mental health status.\n",
    "\n",
    "Analyses We Plan on Performing:\n",
    "Chi-Square Test of Independence: \n",
    "This statistical test will help determine if there is a significant association between relationship status and reported mental health issues. We hypothesize that the distribution of mental health issues varies by relationship status.\n",
    "Visualization: \n",
    "A bar chart or stacked bar chart will be used to display the proportion of respondents with and without mental health issues in each relationship status group. This visualization will allow for a clear comparison of mental health differences between single and married or partnered individuals.\n",
    "\n",
    "Hypothesis:\n",
    "We hypothesize that individuals in committed relationships (such as married or partnered) are less likely to report mental health challenges because the support from a partner can help buffer against mental health issues. Conversely, single individuals may report more mental health challenges due to the lack of this specific type of social support.\n",
    "\n",
    "Analysis 2 Proposal：\n",
    "\n",
    "Research Question:\n",
    "Does adherence to social distancing affect levels of community engagement? With social distancing policies implemented during the COVID-19 pandemic, many social activities and interactions were limited. This analysis aims to explore whether these preventive measures have diminished individuals’ sense of community engagement.\n",
    "\n",
    "Variables:\n",
    "COVID_prevention_distancing: Indicates the extent to which respondents adhered to social distancing during the pandemic, using ordinal data (e.g., “always,” “sometimes,” “never”). This variable reflects the individual’s attitude and behavior toward social distancing policies.\n",
    "COMMUNITY_engagement: Measures the level of community engagement reported by the respondent, which may include frequency of participation in community activities or involvement in volunteer work. This variable is an indicator of social interaction and a sense of belonging.\n",
    "\n",
    "Analyses We Plan on Performing:\n",
    "Correlation Analysis: Using Pearson or Spearman correlation to determine the strength and direction of the relationship between social distancing adherence and community engagement. This analysis will help observe whether strict adherence to social distancing is associated with decreased community engagement.\n",
    "\n",
    "Visualization:\n",
    "A scatter plot will illustrate the relationship between social distancing adherence and community engagement, allowing us to visually assess if higher adherence correlates with lower engagement.\n",
    "Hypothesis: We hypothesize that higher adherence to social distancing will be associated with lower levels of community engagement, as social distancing likely limits opportunities for interaction and participation in group activities, thus reducing the sense of community involvement.\n",
    "\n",
    "Analysis 3 Proposal：\n",
    "\n",
    "Research Question: \n",
    "Does age influence the level of connection with family members? As individuals age, the focus of social interactions may shift, with older people possibly relying more on family relationships while younger individuals focus more on friendships and professional relationships.\n",
    "\n",
    "Variables:\n",
    "DEMO_age: The respondent’s age, a continuous variable. Age is considered a factor influencing patterns of social relationships.\n",
    "SOCIAL_connection_family: Indicates the respondent’s level of connection with family members, possibly measured on a scale indicating the closeness of the relationship (e.g., very close, somewhat close, neutral). This variable measures the individual’s connection to their family.\n",
    "Analyses We Plan on Performing:\n",
    "\n",
    "Correlation Analysis:\n",
    "Using Pearson or Spearman correlation to examine the relationship between age and the level of connection with family members. This analysis will help us determine if age significantly impacts the closeness of family relationships.\n",
    "\n",
    "Visualization: \n",
    "A scatter plot will be used to show the relationship between age and level of connection with family members, helping us to identify if older individuals have stronger family connections.\n",
    "Hypothesis: We hypothesize that as individuals age, their connection level with family members increases. This is based on the idea that older individuals may rely more on family support and gradually reduce other types of social relationships.\n"
   ]
  }
 ],
 "metadata": {
  "kernelspec": {
   "display_name": "Python 3 (ipykernel)",
   "language": "python",
   "name": "python3"
  },
  "language_info": {
   "codemirror_mode": {
    "name": "ipython",
    "version": 3
   },
   "file_extension": ".py",
   "mimetype": "text/x-python",
   "name": "python",
   "nbconvert_exporter": "python",
   "pygments_lexer": "ipython3",
   "version": "3.11.6"
  }
 },
 "nbformat": 4,
 "nbformat_minor": 5
}
